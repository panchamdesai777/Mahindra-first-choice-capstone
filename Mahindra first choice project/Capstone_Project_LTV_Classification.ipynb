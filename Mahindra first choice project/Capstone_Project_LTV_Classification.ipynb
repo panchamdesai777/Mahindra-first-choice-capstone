{
 "cells": [
  {
   "cell_type": "code",
   "execution_count": 90,
   "metadata": {
    "colab": {},
    "colab_type": "code",
    "id": "agkCJmPGioam"
   },
   "outputs": [],
   "source": [
    "import warnings\n",
    "warnings.simplefilter('ignore')\n",
    "import pandas as pd\n",
    "import numpy as np \n",
    "import matplotlib.pyplot as plt\n",
    "import seaborn as sns\n",
    "import pgeocode\n",
    "nomi = pgeocode.Nominatim('IN')\n",
    "from sklearn.preprocessing import LabelEncoder,StandardScaler\n",
    "from sklearn.model_selection import train_test_split as tts,cross_val_score,ShuffleSplit\n",
    "from imblearn.over_sampling import SMOTE\n",
    "from sklearn.tree import DecisionTreeClassifier\n",
    "from sklearn.ensemble import RandomForestClassifier\n",
    "from xgboost import XGBClassifier\n",
    "from sklearn.cluster import KMeans\n",
    "from sklearn.decomposition import PCA\n",
    "from sklearn.metrics import accuracy_score,f1_score,classification_report,roc_auc_score\n",
    "pd.set_option('display.max_columns', None)\n",
    "pd.set_option('display.max_rows',None)"
   ]
  },
  {
   "cell_type": "code",
   "execution_count": 91,
   "metadata": {
    "colab": {
     "base_uri": "https://localhost:8080/",
     "height": 383
    },
    "colab_type": "code",
    "id": "IovcOuIGiobD",
    "outputId": "813ed19a-d5a2-45bf-d57f-c60282605862"
   },
   "outputs": [],
   "source": [
    "invoice = pd.read_csv('.\\Cleaned_Data\\cleaned_merged_data.csv')"
   ]
  },
  {
   "cell_type": "code",
   "execution_count": 92,
   "metadata": {
    "colab": {
     "base_uri": "https://localhost:8080/",
     "height": 35
    },
    "colab_type": "code",
    "id": "lsffmVJ6iobf",
    "outputId": "781daef5-34e6-4063-9f71-fad97f627df0"
   },
   "outputs": [
    {
     "data": {
      "text/plain": [
       "(936275, 34)"
      ]
     },
     "execution_count": 92,
     "metadata": {},
     "output_type": "execute_result"
    }
   ],
   "source": [
    "invoice.shape"
   ]
  },
  {
   "cell_type": "markdown",
   "metadata": {},
   "source": [
    "### Calculating service time in Hrs "
   ]
  },
  {
   "cell_type": "code",
   "execution_count": 93,
   "metadata": {},
   "outputs": [
    {
     "data": {
      "text/plain": [
       "count    936275.000000\n",
       "mean         89.878782\n",
       "std         275.095915\n",
       "min          -0.009167\n",
       "25%           4.048611\n",
       "50%          23.258889\n",
       "75%          73.230278\n",
       "max       17769.261389\n",
       "Name: Service_Time_Hrs, dtype: float64"
      ]
     },
     "execution_count": 93,
     "metadata": {},
     "output_type": "execute_result"
    }
   ],
   "source": [
    "invoice['year'] = pd.to_datetime(invoice['Invoice_DateTime']).dt.year\n",
    "invoice['month'] = pd.to_datetime(invoice['Invoice_DateTime']).dt.month\n",
    "invoice[\"Invoice_DateTime\"]=pd.to_datetime(invoice[\"Invoice_DateTime\"],dayfirst=True)\n",
    "invoice[\"JobCard_DateTime\"]=pd.to_datetime(invoice[\"JobCard_DateTime\"],dayfirst=True)\n",
    "invoice['Service_Time'] = invoice['Invoice_DateTime'] - invoice['JobCard_DateTime']\n",
    "invoice['Service_Time_Hrs'] = invoice['Service_Time']/np.timedelta64(1,'h')\n",
    "invoice['Service_Time_Hrs'].describe()"
   ]
  },
  {
   "cell_type": "code",
   "execution_count": 94,
   "metadata": {},
   "outputs": [
    {
     "data": {
      "text/html": [
       "<div>\n",
       "<style scoped>\n",
       "    .dataframe tbody tr th:only-of-type {\n",
       "        vertical-align: middle;\n",
       "    }\n",
       "\n",
       "    .dataframe tbody tr th {\n",
       "        vertical-align: top;\n",
       "    }\n",
       "\n",
       "    .dataframe thead th {\n",
       "        text-align: right;\n",
       "    }\n",
       "</style>\n",
       "<table border=\"1\" class=\"dataframe\">\n",
       "  <thead>\n",
       "    <tr style=\"text-align: right;\">\n",
       "      <th></th>\n",
       "      <th>Unnamed: 0</th>\n",
       "      <th>Cust Type</th>\n",
       "      <th>Customer No.</th>\n",
       "      <th>Gate Pass Time</th>\n",
       "      <th>Invoice No</th>\n",
       "      <th>Job Card No</th>\n",
       "      <th>KMs Reading</th>\n",
       "      <th>Labour Total</th>\n",
       "      <th>Make</th>\n",
       "      <th>Misc Total</th>\n",
       "      <th>Model</th>\n",
       "      <th>OSL Total</th>\n",
       "      <th>Order Type</th>\n",
       "      <th>Parts Total</th>\n",
       "      <th>Pin code</th>\n",
       "      <th>Plant</th>\n",
       "      <th>Plant Name1</th>\n",
       "      <th>Print Status</th>\n",
       "      <th>Recovrbl Exp</th>\n",
       "      <th>Total Amt Wtd Tax.</th>\n",
       "      <th>User ID</th>\n",
       "      <th>Invoice_DateTime</th>\n",
       "      <th>JobCard_DateTime</th>\n",
       "      <th>Service_Time</th>\n",
       "      <th>Clean_CITY</th>\n",
       "      <th>Clean_District</th>\n",
       "      <th>Clean_Location_Area</th>\n",
       "      <th>Business Partner</th>\n",
       "      <th>Partner Type</th>\n",
       "      <th>Data Origin</th>\n",
       "      <th>DBM Order</th>\n",
       "      <th>Item Category</th>\n",
       "      <th>Net value</th>\n",
       "      <th>Order Quantity</th>\n",
       "      <th>year</th>\n",
       "      <th>month</th>\n",
       "      <th>Service_Time_Hrs</th>\n",
       "    </tr>\n",
       "  </thead>\n",
       "  <tbody>\n",
       "    <tr>\n",
       "      <td>714423</td>\n",
       "      <td>714423</td>\n",
       "      <td>Retail</td>\n",
       "      <td>182085</td>\n",
       "      <td>00:00:00</td>\n",
       "      <td>7167000988</td>\n",
       "      <td>363294</td>\n",
       "      <td>62001</td>\n",
       "      <td>0.0</td>\n",
       "      <td>MARUTI SUZUKI</td>\n",
       "      <td>0.0</td>\n",
       "      <td>SWIFT DZIRE</td>\n",
       "      <td>0.0</td>\n",
       "      <td>Running Repairs</td>\n",
       "      <td>0.0</td>\n",
       "      <td>603103</td>\n",
       "      <td>X085</td>\n",
       "      <td>X085 - SRI MOTORS</td>\n",
       "      <td>NO</td>\n",
       "      <td>0.0</td>\n",
       "      <td>0.0</td>\n",
       "      <td>X085SA1</td>\n",
       "      <td>2016-05-02 15:12:11</td>\n",
       "      <td>2016-05-02 15:12:44</td>\n",
       "      <td>-1 days +23:59:27</td>\n",
       "      <td>Kanchipuram</td>\n",
       "      <td>Tamil Nadu</td>\n",
       "      <td>Kelambakkam, Padur, Thaiyur, Pudupakkam</td>\n",
       "      <td>191639</td>\n",
       "      <td>1.0</td>\n",
       "      <td>Z001</td>\n",
       "      <td>363294.0</td>\n",
       "      <td>G2TX</td>\n",
       "      <td>0.0</td>\n",
       "      <td>0.0</td>\n",
       "      <td>2016</td>\n",
       "      <td>5</td>\n",
       "      <td>-0.009167</td>\n",
       "    </tr>\n",
       "  </tbody>\n",
       "</table>\n",
       "</div>"
      ],
      "text/plain": [
       "        Unnamed: 0 Cust Type Customer No. Gate Pass Time  Invoice No  \\\n",
       "714423      714423    Retail       182085       00:00:00  7167000988   \n",
       "\n",
       "        Job Card No  KMs Reading  Labour Total           Make  Misc Total  \\\n",
       "714423       363294        62001           0.0  MARUTI SUZUKI         0.0   \n",
       "\n",
       "              Model  OSL Total       Order Type  Parts Total  Pin code Plant  \\\n",
       "714423  SWIFT DZIRE        0.0  Running Repairs          0.0    603103  X085   \n",
       "\n",
       "              Plant Name1 Print Status  Recovrbl Exp  Total Amt Wtd Tax.  \\\n",
       "714423  X085 - SRI MOTORS           NO           0.0                 0.0   \n",
       "\n",
       "        User ID    Invoice_DateTime    JobCard_DateTime      Service_Time  \\\n",
       "714423  X085SA1 2016-05-02 15:12:11 2016-05-02 15:12:44 -1 days +23:59:27   \n",
       "\n",
       "         Clean_CITY Clean_District                      Clean_Location_Area  \\\n",
       "714423  Kanchipuram     Tamil Nadu  Kelambakkam, Padur, Thaiyur, Pudupakkam   \n",
       "\n",
       "       Business Partner  Partner Type Data Origin  DBM Order Item Category  \\\n",
       "714423           191639           1.0        Z001   363294.0          G2TX   \n",
       "\n",
       "        Net value  Order Quantity  year  month  Service_Time_Hrs  \n",
       "714423        0.0             0.0  2016      5         -0.009167  "
      ]
     },
     "execution_count": 94,
     "metadata": {},
     "output_type": "execute_result"
    }
   ],
   "source": [
    "invoice[invoice['Service_Time_Hrs']<0]"
   ]
  },
  {
   "cell_type": "code",
   "execution_count": 95,
   "metadata": {},
   "outputs": [],
   "source": [
    "# dropping a row where service time is in negative\n",
    "invoice.drop(index=714423,axis=0,inplace=True)"
   ]
  },
  {
   "cell_type": "code",
   "execution_count": 96,
   "metadata": {},
   "outputs": [
    {
     "data": {
      "text/html": [
       "<div>\n",
       "<style scoped>\n",
       "    .dataframe tbody tr th:only-of-type {\n",
       "        vertical-align: middle;\n",
       "    }\n",
       "\n",
       "    .dataframe tbody tr th {\n",
       "        vertical-align: top;\n",
       "    }\n",
       "\n",
       "    .dataframe thead th {\n",
       "        text-align: right;\n",
       "    }\n",
       "</style>\n",
       "<table border=\"1\" class=\"dataframe\">\n",
       "  <thead>\n",
       "    <tr style=\"text-align: right;\">\n",
       "      <th></th>\n",
       "      <th>Unnamed: 0</th>\n",
       "      <th>Cust Type</th>\n",
       "      <th>Customer No.</th>\n",
       "      <th>Gate Pass Time</th>\n",
       "      <th>Invoice No</th>\n",
       "      <th>Job Card No</th>\n",
       "      <th>KMs Reading</th>\n",
       "      <th>Labour Total</th>\n",
       "      <th>Make</th>\n",
       "      <th>Misc Total</th>\n",
       "      <th>Model</th>\n",
       "      <th>OSL Total</th>\n",
       "      <th>Order Type</th>\n",
       "      <th>Parts Total</th>\n",
       "      <th>Pin code</th>\n",
       "      <th>Plant</th>\n",
       "      <th>Plant Name1</th>\n",
       "      <th>Print Status</th>\n",
       "      <th>Recovrbl Exp</th>\n",
       "      <th>Total Amt Wtd Tax.</th>\n",
       "      <th>User ID</th>\n",
       "      <th>Invoice_DateTime</th>\n",
       "      <th>JobCard_DateTime</th>\n",
       "      <th>Service_Time</th>\n",
       "      <th>Clean_CITY</th>\n",
       "      <th>Clean_District</th>\n",
       "      <th>Clean_Location_Area</th>\n",
       "      <th>Business Partner</th>\n",
       "      <th>Partner Type</th>\n",
       "      <th>Data Origin</th>\n",
       "      <th>DBM Order</th>\n",
       "      <th>Item Category</th>\n",
       "      <th>Net value</th>\n",
       "      <th>Order Quantity</th>\n",
       "      <th>year</th>\n",
       "      <th>month</th>\n",
       "      <th>Service_Time_Hrs</th>\n",
       "    </tr>\n",
       "  </thead>\n",
       "  <tbody>\n",
       "    <tr>\n",
       "      <td>0</td>\n",
       "      <td>0</td>\n",
       "      <td>Retail</td>\n",
       "      <td>67849</td>\n",
       "      <td>00:00:00</td>\n",
       "      <td>7005200002</td>\n",
       "      <td>168303</td>\n",
       "      <td>49317</td>\n",
       "      <td>1203.14</td>\n",
       "      <td>GENERAL MOTORS</td>\n",
       "      <td>0.00</td>\n",
       "      <td>SPARK</td>\n",
       "      <td>500.06</td>\n",
       "      <td>Paid Service</td>\n",
       "      <td>2348.75</td>\n",
       "      <td>400601</td>\n",
       "      <td>BC01</td>\n",
       "      <td>THANE</td>\n",
       "      <td>NO</td>\n",
       "      <td>0.0</td>\n",
       "      <td>4051.95</td>\n",
       "      <td>BC01FS1</td>\n",
       "      <td>2015-01-02 11:30:36</td>\n",
       "      <td>2014-12-13 14:29:43</td>\n",
       "      <td>19 days 21:00:53</td>\n",
       "      <td>Thane</td>\n",
       "      <td>Maharashtra</td>\n",
       "      <td>Thane H.O, Thane Bazar, Thane R.S.</td>\n",
       "      <td>71941</td>\n",
       "      <td>1.0</td>\n",
       "      <td>Z007</td>\n",
       "      <td>168303.0</td>\n",
       "      <td>P001</td>\n",
       "      <td>1203.14</td>\n",
       "      <td>73.0</td>\n",
       "      <td>2015</td>\n",
       "      <td>1</td>\n",
       "      <td>477.014722</td>\n",
       "    </tr>\n",
       "    <tr>\n",
       "      <td>1</td>\n",
       "      <td>1</td>\n",
       "      <td>Retail</td>\n",
       "      <td>67849</td>\n",
       "      <td>00:00:00</td>\n",
       "      <td>7005200002</td>\n",
       "      <td>168303</td>\n",
       "      <td>49317</td>\n",
       "      <td>1203.14</td>\n",
       "      <td>GENERAL MOTORS</td>\n",
       "      <td>0.00</td>\n",
       "      <td>SPARK</td>\n",
       "      <td>500.06</td>\n",
       "      <td>Paid Service</td>\n",
       "      <td>2348.75</td>\n",
       "      <td>400601</td>\n",
       "      <td>BC01</td>\n",
       "      <td>THANE</td>\n",
       "      <td>NO</td>\n",
       "      <td>0.0</td>\n",
       "      <td>4051.95</td>\n",
       "      <td>BC01FS1</td>\n",
       "      <td>2015-01-02 11:30:36</td>\n",
       "      <td>2014-12-13 14:29:43</td>\n",
       "      <td>19 days 21:00:53</td>\n",
       "      <td>Thane</td>\n",
       "      <td>Maharashtra</td>\n",
       "      <td>Thane H.O, Thane Bazar, Thane R.S.</td>\n",
       "      <td>71941</td>\n",
       "      <td>1.0</td>\n",
       "      <td>Z007</td>\n",
       "      <td>168303.0</td>\n",
       "      <td>P002</td>\n",
       "      <td>2348.75</td>\n",
       "      <td>6.5</td>\n",
       "      <td>2015</td>\n",
       "      <td>1</td>\n",
       "      <td>477.014722</td>\n",
       "    </tr>\n",
       "    <tr>\n",
       "      <td>2</td>\n",
       "      <td>2</td>\n",
       "      <td>Retail</td>\n",
       "      <td>67849</td>\n",
       "      <td>00:00:00</td>\n",
       "      <td>7005200002</td>\n",
       "      <td>168303</td>\n",
       "      <td>49317</td>\n",
       "      <td>1203.14</td>\n",
       "      <td>GENERAL MOTORS</td>\n",
       "      <td>0.00</td>\n",
       "      <td>SPARK</td>\n",
       "      <td>500.06</td>\n",
       "      <td>Paid Service</td>\n",
       "      <td>2348.75</td>\n",
       "      <td>400601</td>\n",
       "      <td>BC01</td>\n",
       "      <td>THANE</td>\n",
       "      <td>NO</td>\n",
       "      <td>0.0</td>\n",
       "      <td>4051.95</td>\n",
       "      <td>BC01FS1</td>\n",
       "      <td>2015-01-02 11:30:36</td>\n",
       "      <td>2014-12-13 14:29:43</td>\n",
       "      <td>19 days 21:00:53</td>\n",
       "      <td>Thane</td>\n",
       "      <td>Maharashtra</td>\n",
       "      <td>Thane H.O, Thane Bazar, Thane R.S.</td>\n",
       "      <td>71941</td>\n",
       "      <td>1.0</td>\n",
       "      <td>Z007</td>\n",
       "      <td>168303.0</td>\n",
       "      <td>P010</td>\n",
       "      <td>500.06</td>\n",
       "      <td>1.0</td>\n",
       "      <td>2015</td>\n",
       "      <td>1</td>\n",
       "      <td>477.014722</td>\n",
       "    </tr>\n",
       "    <tr>\n",
       "      <td>3</td>\n",
       "      <td>3</td>\n",
       "      <td>Retail</td>\n",
       "      <td>84419</td>\n",
       "      <td>00:00:00</td>\n",
       "      <td>7005200003</td>\n",
       "      <td>173997</td>\n",
       "      <td>78584</td>\n",
       "      <td>804.26</td>\n",
       "      <td>TATA MOTORS</td>\n",
       "      <td>197.03</td>\n",
       "      <td>INDICA</td>\n",
       "      <td>0.00</td>\n",
       "      <td>SMC Value Package</td>\n",
       "      <td>0.00</td>\n",
       "      <td>400603</td>\n",
       "      <td>BC01</td>\n",
       "      <td>THANE</td>\n",
       "      <td>NO</td>\n",
       "      <td>0.0</td>\n",
       "      <td>1001.29</td>\n",
       "      <td>BC01SA2</td>\n",
       "      <td>2015-01-03 10:07:32</td>\n",
       "      <td>2015-01-02 14:12:18</td>\n",
       "      <td>0 days 19:55:14</td>\n",
       "      <td>Thane</td>\n",
       "      <td>Maharashtra</td>\n",
       "      <td>Kopri Colony, Thane East</td>\n",
       "      <td>89441</td>\n",
       "      <td>1.0</td>\n",
       "      <td>Z001</td>\n",
       "      <td>173997.0</td>\n",
       "      <td>P001</td>\n",
       "      <td>804.26</td>\n",
       "      <td>170.0</td>\n",
       "      <td>2015</td>\n",
       "      <td>1</td>\n",
       "      <td>19.920556</td>\n",
       "    </tr>\n",
       "    <tr>\n",
       "      <td>4</td>\n",
       "      <td>4</td>\n",
       "      <td>Retail</td>\n",
       "      <td>84419</td>\n",
       "      <td>00:00:00</td>\n",
       "      <td>7005200003</td>\n",
       "      <td>173997</td>\n",
       "      <td>78584</td>\n",
       "      <td>804.26</td>\n",
       "      <td>TATA MOTORS</td>\n",
       "      <td>197.03</td>\n",
       "      <td>INDICA</td>\n",
       "      <td>0.00</td>\n",
       "      <td>SMC Value Package</td>\n",
       "      <td>0.00</td>\n",
       "      <td>400603</td>\n",
       "      <td>BC01</td>\n",
       "      <td>THANE</td>\n",
       "      <td>NO</td>\n",
       "      <td>0.0</td>\n",
       "      <td>1001.29</td>\n",
       "      <td>BC01SA2</td>\n",
       "      <td>2015-01-03 10:07:32</td>\n",
       "      <td>2015-01-02 14:12:18</td>\n",
       "      <td>0 days 19:55:14</td>\n",
       "      <td>Thane</td>\n",
       "      <td>Maharashtra</td>\n",
       "      <td>Kopri Colony, Thane East</td>\n",
       "      <td>89441</td>\n",
       "      <td>1.0</td>\n",
       "      <td>Z001</td>\n",
       "      <td>173997.0</td>\n",
       "      <td>P011</td>\n",
       "      <td>197.03</td>\n",
       "      <td>1.0</td>\n",
       "      <td>2015</td>\n",
       "      <td>1</td>\n",
       "      <td>19.920556</td>\n",
       "    </tr>\n",
       "  </tbody>\n",
       "</table>\n",
       "</div>"
      ],
      "text/plain": [
       "   Unnamed: 0 Cust Type Customer No. Gate Pass Time  Invoice No  Job Card No  \\\n",
       "0           0    Retail        67849       00:00:00  7005200002       168303   \n",
       "1           1    Retail        67849       00:00:00  7005200002       168303   \n",
       "2           2    Retail        67849       00:00:00  7005200002       168303   \n",
       "3           3    Retail        84419       00:00:00  7005200003       173997   \n",
       "4           4    Retail        84419       00:00:00  7005200003       173997   \n",
       "\n",
       "   KMs Reading  Labour Total            Make  Misc Total   Model  OSL Total  \\\n",
       "0        49317       1203.14  GENERAL MOTORS        0.00   SPARK     500.06   \n",
       "1        49317       1203.14  GENERAL MOTORS        0.00   SPARK     500.06   \n",
       "2        49317       1203.14  GENERAL MOTORS        0.00   SPARK     500.06   \n",
       "3        78584        804.26     TATA MOTORS      197.03  INDICA       0.00   \n",
       "4        78584        804.26     TATA MOTORS      197.03  INDICA       0.00   \n",
       "\n",
       "          Order Type  Parts Total  Pin code Plant Plant Name1 Print Status  \\\n",
       "0       Paid Service      2348.75    400601  BC01       THANE           NO   \n",
       "1       Paid Service      2348.75    400601  BC01       THANE           NO   \n",
       "2       Paid Service      2348.75    400601  BC01       THANE           NO   \n",
       "3  SMC Value Package         0.00    400603  BC01       THANE           NO   \n",
       "4  SMC Value Package         0.00    400603  BC01       THANE           NO   \n",
       "\n",
       "   Recovrbl Exp  Total Amt Wtd Tax.  User ID    Invoice_DateTime  \\\n",
       "0           0.0             4051.95  BC01FS1 2015-01-02 11:30:36   \n",
       "1           0.0             4051.95  BC01FS1 2015-01-02 11:30:36   \n",
       "2           0.0             4051.95  BC01FS1 2015-01-02 11:30:36   \n",
       "3           0.0             1001.29  BC01SA2 2015-01-03 10:07:32   \n",
       "4           0.0             1001.29  BC01SA2 2015-01-03 10:07:32   \n",
       "\n",
       "     JobCard_DateTime     Service_Time Clean_CITY Clean_District  \\\n",
       "0 2014-12-13 14:29:43 19 days 21:00:53      Thane    Maharashtra   \n",
       "1 2014-12-13 14:29:43 19 days 21:00:53      Thane    Maharashtra   \n",
       "2 2014-12-13 14:29:43 19 days 21:00:53      Thane    Maharashtra   \n",
       "3 2015-01-02 14:12:18  0 days 19:55:14      Thane    Maharashtra   \n",
       "4 2015-01-02 14:12:18  0 days 19:55:14      Thane    Maharashtra   \n",
       "\n",
       "                  Clean_Location_Area Business Partner  Partner Type  \\\n",
       "0  Thane H.O, Thane Bazar, Thane R.S.            71941           1.0   \n",
       "1  Thane H.O, Thane Bazar, Thane R.S.            71941           1.0   \n",
       "2  Thane H.O, Thane Bazar, Thane R.S.            71941           1.0   \n",
       "3            Kopri Colony, Thane East            89441           1.0   \n",
       "4            Kopri Colony, Thane East            89441           1.0   \n",
       "\n",
       "  Data Origin  DBM Order Item Category  Net value  Order Quantity  year  \\\n",
       "0        Z007   168303.0          P001    1203.14            73.0  2015   \n",
       "1        Z007   168303.0          P002    2348.75             6.5  2015   \n",
       "2        Z007   168303.0          P010     500.06             1.0  2015   \n",
       "3        Z001   173997.0          P001     804.26           170.0  2015   \n",
       "4        Z001   173997.0          P011     197.03             1.0  2015   \n",
       "\n",
       "   month  Service_Time_Hrs  \n",
       "0      1        477.014722  \n",
       "1      1        477.014722  \n",
       "2      1        477.014722  \n",
       "3      1         19.920556  \n",
       "4      1         19.920556  "
      ]
     },
     "execution_count": 96,
     "metadata": {},
     "output_type": "execute_result"
    }
   ],
   "source": [
    "invoice.head()"
   ]
  },
  {
   "cell_type": "markdown",
   "metadata": {
    "colab_type": "text",
    "id": "S-N_WbWLiofR"
   },
   "source": [
    "### Calculation of Life Time Value for each customer over a period of 2015 (1 year) based on \"Make\" and \"Model\" of the cars"
   ]
  },
  {
   "cell_type": "code",
   "execution_count": 97,
   "metadata": {
    "colab": {},
    "colab_type": "code",
    "id": "mKAeRcMeiofU"
   },
   "outputs": [],
   "source": [
    "invoice_15=invoice[invoice[\"year\"]==2015]"
   ]
  },
  {
   "cell_type": "code",
   "execution_count": 98,
   "metadata": {
    "colab": {
     "base_uri": "https://localhost:8080/",
     "height": 35
    },
    "colab_type": "code",
    "id": "4iczUaJgiofa",
    "outputId": "d1e56b3a-756a-4754-a9a2-99f29dbd4e12"
   },
   "outputs": [
    {
     "data": {
      "text/plain": [
       "(248353, 37)"
      ]
     },
     "execution_count": 98,
     "metadata": {},
     "output_type": "execute_result"
    }
   ],
   "source": [
    "invoice_15.shape"
   ]
  },
  {
   "cell_type": "code",
   "execution_count": 99,
   "metadata": {
    "colab": {
     "base_uri": "https://localhost:8080/",
     "height": 348
    },
    "colab_type": "code",
    "id": "NKfplMg1iofm",
    "outputId": "6cee1f54-8aef-41e2-8ae0-0b123a647de5"
   },
   "outputs": [
    {
     "data": {
      "text/html": [
       "<div>\n",
       "<style scoped>\n",
       "    .dataframe tbody tr th:only-of-type {\n",
       "        vertical-align: middle;\n",
       "    }\n",
       "\n",
       "    .dataframe tbody tr th {\n",
       "        vertical-align: top;\n",
       "    }\n",
       "\n",
       "    .dataframe thead th {\n",
       "        text-align: right;\n",
       "    }\n",
       "</style>\n",
       "<table border=\"1\" class=\"dataframe\">\n",
       "  <thead>\n",
       "    <tr style=\"text-align: right;\">\n",
       "      <th></th>\n",
       "      <th>Unnamed: 0</th>\n",
       "      <th>Cust Type</th>\n",
       "      <th>Customer No.</th>\n",
       "      <th>Gate Pass Time</th>\n",
       "      <th>Invoice No</th>\n",
       "      <th>Job Card No</th>\n",
       "      <th>KMs Reading</th>\n",
       "      <th>Labour Total</th>\n",
       "      <th>Make</th>\n",
       "      <th>Misc Total</th>\n",
       "      <th>Model</th>\n",
       "      <th>OSL Total</th>\n",
       "      <th>Order Type</th>\n",
       "      <th>Parts Total</th>\n",
       "      <th>Pin code</th>\n",
       "      <th>Plant</th>\n",
       "      <th>Plant Name1</th>\n",
       "      <th>Print Status</th>\n",
       "      <th>Recovrbl Exp</th>\n",
       "      <th>Total Amt Wtd Tax.</th>\n",
       "      <th>User ID</th>\n",
       "      <th>Invoice_DateTime</th>\n",
       "      <th>JobCard_DateTime</th>\n",
       "      <th>Service_Time</th>\n",
       "      <th>Clean_CITY</th>\n",
       "      <th>Clean_District</th>\n",
       "      <th>Clean_Location_Area</th>\n",
       "      <th>Business Partner</th>\n",
       "      <th>Partner Type</th>\n",
       "      <th>Data Origin</th>\n",
       "      <th>DBM Order</th>\n",
       "      <th>Item Category</th>\n",
       "      <th>Net value</th>\n",
       "      <th>Order Quantity</th>\n",
       "      <th>year</th>\n",
       "      <th>month</th>\n",
       "      <th>Service_Time_Hrs</th>\n",
       "    </tr>\n",
       "  </thead>\n",
       "  <tbody>\n",
       "    <tr>\n",
       "      <td>0</td>\n",
       "      <td>0</td>\n",
       "      <td>Retail</td>\n",
       "      <td>67849</td>\n",
       "      <td>00:00:00</td>\n",
       "      <td>7005200002</td>\n",
       "      <td>168303</td>\n",
       "      <td>49317</td>\n",
       "      <td>1203.14</td>\n",
       "      <td>GENERAL MOTORS</td>\n",
       "      <td>0.00</td>\n",
       "      <td>SPARK</td>\n",
       "      <td>500.06</td>\n",
       "      <td>Paid Service</td>\n",
       "      <td>2348.75</td>\n",
       "      <td>400601</td>\n",
       "      <td>BC01</td>\n",
       "      <td>THANE</td>\n",
       "      <td>NO</td>\n",
       "      <td>0.0</td>\n",
       "      <td>4051.95</td>\n",
       "      <td>BC01FS1</td>\n",
       "      <td>2015-01-02 11:30:36</td>\n",
       "      <td>2014-12-13 14:29:43</td>\n",
       "      <td>19 days 21:00:53</td>\n",
       "      <td>Thane</td>\n",
       "      <td>Maharashtra</td>\n",
       "      <td>Thane H.O, Thane Bazar, Thane R.S.</td>\n",
       "      <td>71941</td>\n",
       "      <td>1.0</td>\n",
       "      <td>Z007</td>\n",
       "      <td>168303.0</td>\n",
       "      <td>P001</td>\n",
       "      <td>1203.14</td>\n",
       "      <td>73.0</td>\n",
       "      <td>2015</td>\n",
       "      <td>1</td>\n",
       "      <td>477.014722</td>\n",
       "    </tr>\n",
       "    <tr>\n",
       "      <td>1</td>\n",
       "      <td>1</td>\n",
       "      <td>Retail</td>\n",
       "      <td>67849</td>\n",
       "      <td>00:00:00</td>\n",
       "      <td>7005200002</td>\n",
       "      <td>168303</td>\n",
       "      <td>49317</td>\n",
       "      <td>1203.14</td>\n",
       "      <td>GENERAL MOTORS</td>\n",
       "      <td>0.00</td>\n",
       "      <td>SPARK</td>\n",
       "      <td>500.06</td>\n",
       "      <td>Paid Service</td>\n",
       "      <td>2348.75</td>\n",
       "      <td>400601</td>\n",
       "      <td>BC01</td>\n",
       "      <td>THANE</td>\n",
       "      <td>NO</td>\n",
       "      <td>0.0</td>\n",
       "      <td>4051.95</td>\n",
       "      <td>BC01FS1</td>\n",
       "      <td>2015-01-02 11:30:36</td>\n",
       "      <td>2014-12-13 14:29:43</td>\n",
       "      <td>19 days 21:00:53</td>\n",
       "      <td>Thane</td>\n",
       "      <td>Maharashtra</td>\n",
       "      <td>Thane H.O, Thane Bazar, Thane R.S.</td>\n",
       "      <td>71941</td>\n",
       "      <td>1.0</td>\n",
       "      <td>Z007</td>\n",
       "      <td>168303.0</td>\n",
       "      <td>P002</td>\n",
       "      <td>2348.75</td>\n",
       "      <td>6.5</td>\n",
       "      <td>2015</td>\n",
       "      <td>1</td>\n",
       "      <td>477.014722</td>\n",
       "    </tr>\n",
       "    <tr>\n",
       "      <td>2</td>\n",
       "      <td>2</td>\n",
       "      <td>Retail</td>\n",
       "      <td>67849</td>\n",
       "      <td>00:00:00</td>\n",
       "      <td>7005200002</td>\n",
       "      <td>168303</td>\n",
       "      <td>49317</td>\n",
       "      <td>1203.14</td>\n",
       "      <td>GENERAL MOTORS</td>\n",
       "      <td>0.00</td>\n",
       "      <td>SPARK</td>\n",
       "      <td>500.06</td>\n",
       "      <td>Paid Service</td>\n",
       "      <td>2348.75</td>\n",
       "      <td>400601</td>\n",
       "      <td>BC01</td>\n",
       "      <td>THANE</td>\n",
       "      <td>NO</td>\n",
       "      <td>0.0</td>\n",
       "      <td>4051.95</td>\n",
       "      <td>BC01FS1</td>\n",
       "      <td>2015-01-02 11:30:36</td>\n",
       "      <td>2014-12-13 14:29:43</td>\n",
       "      <td>19 days 21:00:53</td>\n",
       "      <td>Thane</td>\n",
       "      <td>Maharashtra</td>\n",
       "      <td>Thane H.O, Thane Bazar, Thane R.S.</td>\n",
       "      <td>71941</td>\n",
       "      <td>1.0</td>\n",
       "      <td>Z007</td>\n",
       "      <td>168303.0</td>\n",
       "      <td>P010</td>\n",
       "      <td>500.06</td>\n",
       "      <td>1.0</td>\n",
       "      <td>2015</td>\n",
       "      <td>1</td>\n",
       "      <td>477.014722</td>\n",
       "    </tr>\n",
       "    <tr>\n",
       "      <td>3</td>\n",
       "      <td>3</td>\n",
       "      <td>Retail</td>\n",
       "      <td>84419</td>\n",
       "      <td>00:00:00</td>\n",
       "      <td>7005200003</td>\n",
       "      <td>173997</td>\n",
       "      <td>78584</td>\n",
       "      <td>804.26</td>\n",
       "      <td>TATA MOTORS</td>\n",
       "      <td>197.03</td>\n",
       "      <td>INDICA</td>\n",
       "      <td>0.00</td>\n",
       "      <td>SMC Value Package</td>\n",
       "      <td>0.00</td>\n",
       "      <td>400603</td>\n",
       "      <td>BC01</td>\n",
       "      <td>THANE</td>\n",
       "      <td>NO</td>\n",
       "      <td>0.0</td>\n",
       "      <td>1001.29</td>\n",
       "      <td>BC01SA2</td>\n",
       "      <td>2015-01-03 10:07:32</td>\n",
       "      <td>2015-01-02 14:12:18</td>\n",
       "      <td>0 days 19:55:14</td>\n",
       "      <td>Thane</td>\n",
       "      <td>Maharashtra</td>\n",
       "      <td>Kopri Colony, Thane East</td>\n",
       "      <td>89441</td>\n",
       "      <td>1.0</td>\n",
       "      <td>Z001</td>\n",
       "      <td>173997.0</td>\n",
       "      <td>P001</td>\n",
       "      <td>804.26</td>\n",
       "      <td>170.0</td>\n",
       "      <td>2015</td>\n",
       "      <td>1</td>\n",
       "      <td>19.920556</td>\n",
       "    </tr>\n",
       "    <tr>\n",
       "      <td>4</td>\n",
       "      <td>4</td>\n",
       "      <td>Retail</td>\n",
       "      <td>84419</td>\n",
       "      <td>00:00:00</td>\n",
       "      <td>7005200003</td>\n",
       "      <td>173997</td>\n",
       "      <td>78584</td>\n",
       "      <td>804.26</td>\n",
       "      <td>TATA MOTORS</td>\n",
       "      <td>197.03</td>\n",
       "      <td>INDICA</td>\n",
       "      <td>0.00</td>\n",
       "      <td>SMC Value Package</td>\n",
       "      <td>0.00</td>\n",
       "      <td>400603</td>\n",
       "      <td>BC01</td>\n",
       "      <td>THANE</td>\n",
       "      <td>NO</td>\n",
       "      <td>0.0</td>\n",
       "      <td>1001.29</td>\n",
       "      <td>BC01SA2</td>\n",
       "      <td>2015-01-03 10:07:32</td>\n",
       "      <td>2015-01-02 14:12:18</td>\n",
       "      <td>0 days 19:55:14</td>\n",
       "      <td>Thane</td>\n",
       "      <td>Maharashtra</td>\n",
       "      <td>Kopri Colony, Thane East</td>\n",
       "      <td>89441</td>\n",
       "      <td>1.0</td>\n",
       "      <td>Z001</td>\n",
       "      <td>173997.0</td>\n",
       "      <td>P011</td>\n",
       "      <td>197.03</td>\n",
       "      <td>1.0</td>\n",
       "      <td>2015</td>\n",
       "      <td>1</td>\n",
       "      <td>19.920556</td>\n",
       "    </tr>\n",
       "  </tbody>\n",
       "</table>\n",
       "</div>"
      ],
      "text/plain": [
       "   Unnamed: 0 Cust Type Customer No. Gate Pass Time  Invoice No  Job Card No  \\\n",
       "0           0    Retail        67849       00:00:00  7005200002       168303   \n",
       "1           1    Retail        67849       00:00:00  7005200002       168303   \n",
       "2           2    Retail        67849       00:00:00  7005200002       168303   \n",
       "3           3    Retail        84419       00:00:00  7005200003       173997   \n",
       "4           4    Retail        84419       00:00:00  7005200003       173997   \n",
       "\n",
       "   KMs Reading  Labour Total            Make  Misc Total   Model  OSL Total  \\\n",
       "0        49317       1203.14  GENERAL MOTORS        0.00   SPARK     500.06   \n",
       "1        49317       1203.14  GENERAL MOTORS        0.00   SPARK     500.06   \n",
       "2        49317       1203.14  GENERAL MOTORS        0.00   SPARK     500.06   \n",
       "3        78584        804.26     TATA MOTORS      197.03  INDICA       0.00   \n",
       "4        78584        804.26     TATA MOTORS      197.03  INDICA       0.00   \n",
       "\n",
       "          Order Type  Parts Total  Pin code Plant Plant Name1 Print Status  \\\n",
       "0       Paid Service      2348.75    400601  BC01       THANE           NO   \n",
       "1       Paid Service      2348.75    400601  BC01       THANE           NO   \n",
       "2       Paid Service      2348.75    400601  BC01       THANE           NO   \n",
       "3  SMC Value Package         0.00    400603  BC01       THANE           NO   \n",
       "4  SMC Value Package         0.00    400603  BC01       THANE           NO   \n",
       "\n",
       "   Recovrbl Exp  Total Amt Wtd Tax.  User ID    Invoice_DateTime  \\\n",
       "0           0.0             4051.95  BC01FS1 2015-01-02 11:30:36   \n",
       "1           0.0             4051.95  BC01FS1 2015-01-02 11:30:36   \n",
       "2           0.0             4051.95  BC01FS1 2015-01-02 11:30:36   \n",
       "3           0.0             1001.29  BC01SA2 2015-01-03 10:07:32   \n",
       "4           0.0             1001.29  BC01SA2 2015-01-03 10:07:32   \n",
       "\n",
       "     JobCard_DateTime     Service_Time Clean_CITY Clean_District  \\\n",
       "0 2014-12-13 14:29:43 19 days 21:00:53      Thane    Maharashtra   \n",
       "1 2014-12-13 14:29:43 19 days 21:00:53      Thane    Maharashtra   \n",
       "2 2014-12-13 14:29:43 19 days 21:00:53      Thane    Maharashtra   \n",
       "3 2015-01-02 14:12:18  0 days 19:55:14      Thane    Maharashtra   \n",
       "4 2015-01-02 14:12:18  0 days 19:55:14      Thane    Maharashtra   \n",
       "\n",
       "                  Clean_Location_Area Business Partner  Partner Type  \\\n",
       "0  Thane H.O, Thane Bazar, Thane R.S.            71941           1.0   \n",
       "1  Thane H.O, Thane Bazar, Thane R.S.            71941           1.0   \n",
       "2  Thane H.O, Thane Bazar, Thane R.S.            71941           1.0   \n",
       "3            Kopri Colony, Thane East            89441           1.0   \n",
       "4            Kopri Colony, Thane East            89441           1.0   \n",
       "\n",
       "  Data Origin  DBM Order Item Category  Net value  Order Quantity  year  \\\n",
       "0        Z007   168303.0          P001    1203.14            73.0  2015   \n",
       "1        Z007   168303.0          P002    2348.75             6.5  2015   \n",
       "2        Z007   168303.0          P010     500.06             1.0  2015   \n",
       "3        Z001   173997.0          P001     804.26           170.0  2015   \n",
       "4        Z001   173997.0          P011     197.03             1.0  2015   \n",
       "\n",
       "   month  Service_Time_Hrs  \n",
       "0      1        477.014722  \n",
       "1      1        477.014722  \n",
       "2      1        477.014722  \n",
       "3      1         19.920556  \n",
       "4      1         19.920556  "
      ]
     },
     "execution_count": 99,
     "metadata": {},
     "output_type": "execute_result"
    }
   ],
   "source": [
    "invoice_15.head()"
   ]
  },
  {
   "cell_type": "code",
   "execution_count": 100,
   "metadata": {
    "colab": {
     "base_uri": "https://localhost:8080/",
     "height": 348
    },
    "colab_type": "code",
    "id": "r_wYXYEpiofw",
    "outputId": "adc447e9-824f-43f6-e24c-ffde4f47141e"
   },
   "outputs": [
    {
     "data": {
      "text/html": [
       "<div>\n",
       "<style scoped>\n",
       "    .dataframe tbody tr th:only-of-type {\n",
       "        vertical-align: middle;\n",
       "    }\n",
       "\n",
       "    .dataframe tbody tr th {\n",
       "        vertical-align: top;\n",
       "    }\n",
       "\n",
       "    .dataframe thead th {\n",
       "        text-align: right;\n",
       "    }\n",
       "</style>\n",
       "<table border=\"1\" class=\"dataframe\">\n",
       "  <thead>\n",
       "    <tr style=\"text-align: right;\">\n",
       "      <th></th>\n",
       "      <th>Make</th>\n",
       "      <th>Model</th>\n",
       "      <th>Clean_Location_Area</th>\n",
       "      <th>Customer No.</th>\n",
       "      <th>Invoice No</th>\n",
       "      <th>Total Amt Wtd Tax.</th>\n",
       "      <th>Service_Time_Hrs</th>\n",
       "      <th>LTV</th>\n",
       "    </tr>\n",
       "  </thead>\n",
       "  <tbody>\n",
       "    <tr>\n",
       "      <td>0</td>\n",
       "      <td>AUDI</td>\n",
       "      <td>A4</td>\n",
       "      <td>Bhatoli, Charatghar, Nangran, Mehatpur (Una), ...</td>\n",
       "      <td>137682</td>\n",
       "      <td>1</td>\n",
       "      <td>359.87</td>\n",
       "      <td>0.052778</td>\n",
       "      <td>359.87</td>\n",
       "    </tr>\n",
       "    <tr>\n",
       "      <td>1</td>\n",
       "      <td>AUDI</td>\n",
       "      <td>A4</td>\n",
       "      <td>Chanod Md, Vapi I.E.</td>\n",
       "      <td>128276</td>\n",
       "      <td>1</td>\n",
       "      <td>2480.49</td>\n",
       "      <td>2.973889</td>\n",
       "      <td>2480.49</td>\n",
       "    </tr>\n",
       "    <tr>\n",
       "      <td>2</td>\n",
       "      <td>AUDI</td>\n",
       "      <td>A4</td>\n",
       "      <td>Deccan Gymkhana, A.R. Shala, Film Institute</td>\n",
       "      <td>98005</td>\n",
       "      <td>1</td>\n",
       "      <td>14549.91</td>\n",
       "      <td>103.956667</td>\n",
       "      <td>14549.91</td>\n",
       "    </tr>\n",
       "    <tr>\n",
       "      <td>3</td>\n",
       "      <td>AUDI</td>\n",
       "      <td>A4</td>\n",
       "      <td>Electronics City</td>\n",
       "      <td>113926</td>\n",
       "      <td>1</td>\n",
       "      <td>21834.92</td>\n",
       "      <td>28.306389</td>\n",
       "      <td>21834.92</td>\n",
       "    </tr>\n",
       "    <tr>\n",
       "      <td>4</td>\n",
       "      <td>AUDI</td>\n",
       "      <td>A4</td>\n",
       "      <td>Ferozepur H.O, Sadar Bazar (Firozpur), Cantt R...</td>\n",
       "      <td>89967</td>\n",
       "      <td>2</td>\n",
       "      <td>381.42</td>\n",
       "      <td>1.582685</td>\n",
       "      <td>762.84</td>\n",
       "    </tr>\n",
       "  </tbody>\n",
       "</table>\n",
       "</div>"
      ],
      "text/plain": [
       "   Make Model                                Clean_Location_Area Customer No.  \\\n",
       "0  AUDI    A4  Bhatoli, Charatghar, Nangran, Mehatpur (Una), ...       137682   \n",
       "1  AUDI    A4                               Chanod Md, Vapi I.E.       128276   \n",
       "2  AUDI    A4        Deccan Gymkhana, A.R. Shala, Film Institute        98005   \n",
       "3  AUDI    A4                                   Electronics City       113926   \n",
       "4  AUDI    A4  Ferozepur H.O, Sadar Bazar (Firozpur), Cantt R...        89967   \n",
       "\n",
       "   Invoice No  Total Amt Wtd Tax.  Service_Time_Hrs       LTV  \n",
       "0           1              359.87          0.052778    359.87  \n",
       "1           1             2480.49          2.973889   2480.49  \n",
       "2           1            14549.91        103.956667  14549.91  \n",
       "3           1            21834.92         28.306389  21834.92  \n",
       "4           2              381.42          1.582685    762.84  "
      ]
     },
     "execution_count": 100,
     "metadata": {},
     "output_type": "execute_result"
    }
   ],
   "source": [
    "# Calculating frequency of visits & total revenue of a customer for calculation of ltv\n",
    "\n",
    "customer_freq=invoice_15.groupby([\"Make\",\"Model\",\"Clean_Location_Area\",\"Customer No.\"]).agg({\"Invoice No\":'nunique',\"Total Amt Wtd Tax.\":'mean',\"Service_Time_Hrs\":'mean'})\n",
    "customer_freq=customer_freq.reset_index()\n",
    "\n",
    "customer_freq.head()\n",
    "\n",
    "ltv_make_model_r=customer_freq.copy()\n",
    "ltv_make_model_r[\"LTV\"] = ltv_make_model_r[\"Invoice No\"] * ltv_make_model_r[\"Total Amt Wtd Tax.\"]\n",
    "ltv_make_model_r.head()"
   ]
  },
  {
   "cell_type": "markdown",
   "metadata": {},
   "source": [
    "### Filtering customer having LTV/Total revenue > 0 "
   ]
  },
  {
   "cell_type": "code",
   "execution_count": 104,
   "metadata": {},
   "outputs": [],
   "source": [
    "ltv_make_model_r = ltv_make_model_r[ltv_make_model_r['LTV'] > 0]"
   ]
  },
  {
   "cell_type": "code",
   "execution_count": 105,
   "metadata": {},
   "outputs": [
    {
     "data": {
      "text/plain": [
       "(65088, 8)"
      ]
     },
     "execution_count": 105,
     "metadata": {},
     "output_type": "execute_result"
    }
   ],
   "source": [
    "ltv_make_model_r.shape"
   ]
  },
  {
   "cell_type": "markdown",
   "metadata": {},
   "source": [
    "### Quantile based analysis of LTV to decide threshold"
   ]
  },
  {
   "cell_type": "code",
   "execution_count": 106,
   "metadata": {
    "colab": {
     "base_uri": "https://localhost:8080/",
     "height": 35
    },
    "colab_type": "code",
    "id": "qz9dqYk2iof3",
    "outputId": "91798fe4-cd12-46ed-f720-e5614aad6eb5"
   },
   "outputs": [
    {
     "name": "stdout",
     "output_type": "stream",
     "text": [
      "0.05 quantile :- 194.9840000000001\n",
      "0.25 quantile :- 749.4\n",
      "0.50 quantile :- 3036.01\n",
      "0.75 quantile :- 8801.681363636362\n",
      "0.95 quantile :- 33434.124277777766\n",
      "minimum LTV :- 0.85\n",
      "maximum LTV :- 2109690.8168778275\n",
      "mean LTV :- 8739.854409827778\n"
     ]
    }
   ],
   "source": [
    "print(\"0.05 quantile :-\",ltv_make_model_r['LTV'].quantile(0.05))\n",
    "print(\"0.25 quantile :-\",ltv_make_model_r['LTV'].quantile(0.25))\n",
    "print(\"0.50 quantile :-\",ltv_make_model_r['LTV'].quantile(0.50))\n",
    "print(\"0.75 quantile :-\",ltv_make_model_r['LTV'].quantile(0.75))\n",
    "print(\"0.95 quantile :-\",ltv_make_model_r['LTV'].quantile(0.95))\n",
    "print(\"minimum LTV :-\",ltv_make_model_r['LTV'].min())\n",
    "print(\"maximum LTV :-\",ltv_make_model_r['LTV'].max())\n",
    "print(\"mean LTV :-\",ltv_make_model_r['LTV'].mean())"
   ]
  },
  {
   "cell_type": "code",
   "execution_count": 107,
   "metadata": {
    "colab": {
     "base_uri": "https://localhost:8080/",
     "height": 72
    },
    "colab_type": "code",
    "id": "5ZS8c2APiogF",
    "outputId": "b2145fc5-702b-433e-cf80-7238cd781690"
   },
   "outputs": [
    {
     "name": "stdout",
     "output_type": "stream",
     "text": [
      "(32544, 8)\n",
      "(16272, 8)\n",
      "(16272, 8)\n"
     ]
    }
   ],
   "source": [
    "print(ltv_make_model_r[ltv_make_model_r[\"LTV\"]<=3036.01].shape)\n",
    "print(ltv_make_model_r[(ltv_make_model_r[\"LTV\"]>3036.01)&(ltv_make_model_r[\"LTV\"]<=8801.681363636362)].shape)\n",
    "print(ltv_make_model_r[ltv_make_model_r[\"LTV\"]>8801.681363636362].shape)"
   ]
  },
  {
   "cell_type": "code",
   "execution_count": 108,
   "metadata": {
    "colab": {},
    "colab_type": "code",
    "id": "Car18mzNiogL"
   },
   "outputs": [],
   "source": [
    "bins=[-1,3036.01,8801.681363636362,2109690.8168778275]\n",
    "labels=[\"Low\",\"Medium\",\"High\"]\n",
    "ltv_make_model_r[\"LTV Binned\"]=pd.cut(ltv_make_model_r[\"LTV\"], bins=bins, labels=labels)"
   ]
  },
  {
   "cell_type": "code",
   "execution_count": 109,
   "metadata": {
    "colab": {
     "base_uri": "https://localhost:8080/",
     "height": 90
    },
    "colab_type": "code",
    "id": "znlkYh20mZwv",
    "outputId": "f2abfbde-a8fd-4f8c-d0e8-2a654809d6e1"
   },
   "outputs": [
    {
     "data": {
      "text/plain": [
       "Low       32544\n",
       "High      16272\n",
       "Medium    16272\n",
       "Name: LTV Binned, dtype: int64"
      ]
     },
     "execution_count": 109,
     "metadata": {},
     "output_type": "execute_result"
    }
   ],
   "source": [
    "ltv_make_model_r[\"LTV Binned\"].value_counts(dropna=False)"
   ]
  },
  {
   "cell_type": "code",
   "execution_count": 110,
   "metadata": {
    "colab": {},
    "colab_type": "code",
    "id": "Ac6Gdi7ZiogQ"
   },
   "outputs": [],
   "source": [
    "ltv_make_model_r.dropna(inplace=True)"
   ]
  },
  {
   "cell_type": "code",
   "execution_count": 111,
   "metadata": {
    "colab": {},
    "colab_type": "code",
    "id": "GzvhflCyiogV"
   },
   "outputs": [],
   "source": [
    "temp_ltv_make_model_r=ltv_make_model_r.copy()"
   ]
  },
  {
   "cell_type": "code",
   "execution_count": 112,
   "metadata": {
    "colab": {},
    "colab_type": "code",
    "id": "VGbc3tR5ioga"
   },
   "outputs": [],
   "source": [
    "le=LabelEncoder()\n",
    "temp_ltv_make_model_r[\"Make\"]=le.fit_transform(temp_ltv_make_model_r[\"Make\"])\n",
    "temp_ltv_make_model_r[\"Model\"]=le.fit_transform(temp_ltv_make_model_r[\"Model\"])\n",
    "temp_ltv_make_model_r[\"LTV Binned\"]=le.fit_transform(temp_ltv_make_model_r[\"LTV Binned\"])\n",
    "temp_ltv_make_model_r[\"Clean_Location_Area\"]=le.fit_transform(temp_ltv_make_model_r[\"Clean_Location_Area\"])"
   ]
  },
  {
   "cell_type": "code",
   "execution_count": 113,
   "metadata": {
    "colab": {
     "base_uri": "https://localhost:8080/",
     "height": 244
    },
    "colab_type": "code",
    "id": "wxuoOpK6iogg",
    "outputId": "068b7cb8-5127-4f5b-ab1e-c2a1b71d5dff"
   },
   "outputs": [
    {
     "data": {
      "text/html": [
       "<div>\n",
       "<style scoped>\n",
       "    .dataframe tbody tr th:only-of-type {\n",
       "        vertical-align: middle;\n",
       "    }\n",
       "\n",
       "    .dataframe tbody tr th {\n",
       "        vertical-align: top;\n",
       "    }\n",
       "\n",
       "    .dataframe thead th {\n",
       "        text-align: right;\n",
       "    }\n",
       "</style>\n",
       "<table border=\"1\" class=\"dataframe\">\n",
       "  <thead>\n",
       "    <tr style=\"text-align: right;\">\n",
       "      <th></th>\n",
       "      <th>Make</th>\n",
       "      <th>Model</th>\n",
       "      <th>Clean_Location_Area</th>\n",
       "      <th>Customer No.</th>\n",
       "      <th>Invoice No</th>\n",
       "      <th>Total Amt Wtd Tax.</th>\n",
       "      <th>Service_Time_Hrs</th>\n",
       "      <th>LTV</th>\n",
       "      <th>LTV Binned</th>\n",
       "    </tr>\n",
       "  </thead>\n",
       "  <tbody>\n",
       "    <tr>\n",
       "      <td>0</td>\n",
       "      <td>0</td>\n",
       "      <td>7</td>\n",
       "      <td>343</td>\n",
       "      <td>137682</td>\n",
       "      <td>1</td>\n",
       "      <td>359.87</td>\n",
       "      <td>0.052778</td>\n",
       "      <td>359.87</td>\n",
       "      <td>1</td>\n",
       "    </tr>\n",
       "    <tr>\n",
       "      <td>1</td>\n",
       "      <td>0</td>\n",
       "      <td>7</td>\n",
       "      <td>445</td>\n",
       "      <td>128276</td>\n",
       "      <td>1</td>\n",
       "      <td>2480.49</td>\n",
       "      <td>2.973889</td>\n",
       "      <td>2480.49</td>\n",
       "      <td>1</td>\n",
       "    </tr>\n",
       "    <tr>\n",
       "      <td>2</td>\n",
       "      <td>0</td>\n",
       "      <td>7</td>\n",
       "      <td>576</td>\n",
       "      <td>98005</td>\n",
       "      <td>1</td>\n",
       "      <td>14549.91</td>\n",
       "      <td>103.956667</td>\n",
       "      <td>14549.91</td>\n",
       "      <td>0</td>\n",
       "    </tr>\n",
       "    <tr>\n",
       "      <td>3</td>\n",
       "      <td>0</td>\n",
       "      <td>7</td>\n",
       "      <td>673</td>\n",
       "      <td>113926</td>\n",
       "      <td>1</td>\n",
       "      <td>21834.92</td>\n",
       "      <td>28.306389</td>\n",
       "      <td>21834.92</td>\n",
       "      <td>0</td>\n",
       "    </tr>\n",
       "    <tr>\n",
       "      <td>4</td>\n",
       "      <td>0</td>\n",
       "      <td>7</td>\n",
       "      <td>711</td>\n",
       "      <td>89967</td>\n",
       "      <td>2</td>\n",
       "      <td>381.42</td>\n",
       "      <td>1.582685</td>\n",
       "      <td>762.84</td>\n",
       "      <td>1</td>\n",
       "    </tr>\n",
       "  </tbody>\n",
       "</table>\n",
       "</div>"
      ],
      "text/plain": [
       "   Make  Model  Clean_Location_Area Customer No.  Invoice No  \\\n",
       "0     0      7                  343       137682           1   \n",
       "1     0      7                  445       128276           1   \n",
       "2     0      7                  576        98005           1   \n",
       "3     0      7                  673       113926           1   \n",
       "4     0      7                  711        89967           2   \n",
       "\n",
       "   Total Amt Wtd Tax.  Service_Time_Hrs       LTV  LTV Binned  \n",
       "0              359.87          0.052778    359.87           1  \n",
       "1             2480.49          2.973889   2480.49           1  \n",
       "2            14549.91        103.956667  14549.91           0  \n",
       "3            21834.92         28.306389  21834.92           0  \n",
       "4              381.42          1.582685    762.84           1  "
      ]
     },
     "execution_count": 113,
     "metadata": {},
     "output_type": "execute_result"
    }
   ],
   "source": [
    "temp_ltv_make_model_r.head()"
   ]
  },
  {
   "cell_type": "code",
   "execution_count": 114,
   "metadata": {
    "colab": {},
    "colab_type": "code",
    "id": "y_ldDpBNiogl"
   },
   "outputs": [],
   "source": [
    "X=temp_ltv_make_model_r.drop([\"Customer No.\",\"LTV\",\"LTV Binned\",\"Invoice No\"],1)\n",
    "y=temp_ltv_make_model_r[\"LTV Binned\"]"
   ]
  },
  {
   "cell_type": "code",
   "execution_count": 115,
   "metadata": {
    "colab": {
     "base_uri": "https://localhost:8080/",
     "height": 35
    },
    "colab_type": "code",
    "id": "3JWk8nIdiu_K",
    "outputId": "84c6685c-9a00-4c6e-e84c-2df73a39ebae"
   },
   "outputs": [
    {
     "data": {
      "text/plain": [
       "['Make',\n",
       " 'Model',\n",
       " 'Clean_Location_Area',\n",
       " 'Total Amt Wtd Tax.',\n",
       " 'Service_Time_Hrs']"
      ]
     },
     "execution_count": 115,
     "metadata": {},
     "output_type": "execute_result"
    }
   ],
   "source": [
    "list(X)"
   ]
  },
  {
   "cell_type": "code",
   "execution_count": 116,
   "metadata": {
    "colab": {},
    "colab_type": "code",
    "id": "nbClf_FSiogp"
   },
   "outputs": [],
   "source": [
    "X_train,X_test,y_train,y_test=tts(X,y,test_size=0.3,random_state=0)"
   ]
  },
  {
   "cell_type": "markdown",
   "metadata": {},
   "source": [
    "### Decision Tree Classifier"
   ]
  },
  {
   "cell_type": "code",
   "execution_count": 121,
   "metadata": {},
   "outputs": [
    {
     "name": "stdout",
     "output_type": "stream",
     "text": [
      "              precision    recall  f1-score   support\n",
      "\n",
      "           0       0.95      0.66      0.78      4855\n",
      "           1       0.88      0.97      0.93      9781\n",
      "           2       0.68      0.75      0.72      4891\n",
      "\n",
      "    accuracy                           0.84     19527\n",
      "   macro avg       0.84      0.79      0.81     19527\n",
      "weighted avg       0.85      0.84      0.84     19527\n",
      "\n"
     ]
    }
   ],
   "source": [
    "dt = DecisionTreeClassifier(criterion='entropy',max_depth=8,random_state=0)\n",
    "\n",
    "dt.fit(X_train,y_train)\n",
    "\n",
    "y_pred_dt = dt.predict(X_test)\n",
    "y_pred_dt_train = dt.predict(X_train)\n",
    "\n",
    "print(classification_report(y_test,y_pred_dt))"
   ]
  },
  {
   "cell_type": "code",
   "execution_count": 129,
   "metadata": {},
   "outputs": [
    {
     "name": "stdout",
     "output_type": "stream",
     "text": [
      "Training Accuracy :- 0.8394530649869412\n",
      "Testing Accuracy :- 0.8442308114396084\n"
     ]
    }
   ],
   "source": [
    "print(\"Training Accuracy :-\" , accuracy_score(y_test,y_pred_dt))\n",
    "print(\"Testing Accuracy :-\" ,accuracy_score(y_train,y_pred_dt_train))"
   ]
  },
  {
   "cell_type": "code",
   "execution_count": 128,
   "metadata": {},
   "outputs": [
    {
     "data": {
      "text/plain": [
       "<BarContainer object of 5 artists>"
      ]
     },
     "execution_count": 128,
     "metadata": {},
     "output_type": "execute_result"
    },
    {
     "data": {
      "image/png": "[encoded data removed]",
      "text/plain": [
       "<Figure size 432x288 with 1 Axes>"
      ]
     },
     "metadata": {
      "needs_background": "light"
     },
     "output_type": "display_data"
    }
   ],
   "source": [
    "plt.barh(list(X),list(dt.feature_importances_))"
   ]
  },
  {
   "cell_type": "code",
   "execution_count": 131,
   "metadata": {},
   "outputs": [
    {
     "name": "stdout",
     "output_type": "stream",
     "text": [
      "0.8313359877913766\n"
     ]
    }
   ],
   "source": [
    "### Cross Validation Score\n",
    "\n",
    "dt_cv_score=cross_val_score(estimator=dt,X=X,y=y,cv=5)\n",
    "\n",
    "print(dt_cv_score.mean())"
   ]
  },
  {
   "cell_type": "markdown",
   "metadata": {},
   "source": [
    "### Random Forest Classifier"
   ]
  },
  {
   "cell_type": "code",
   "execution_count": 132,
   "metadata": {
    "colab": {},
    "colab_type": "code",
    "id": "ZzDZOFv4iogu"
   },
   "outputs": [],
   "source": [
    "rfc=RandomForestClassifier(criterion='entropy',max_depth=8,random_state=0)"
   ]
  },
  {
   "cell_type": "code",
   "execution_count": 133,
   "metadata": {
    "colab": {
     "base_uri": "https://localhost:8080/",
     "height": 164
    },
    "colab_type": "code",
    "id": "B8VCTxDqiog2",
    "outputId": "bfd38301-9729-4806-b5d7-41e8e84e9dd7"
   },
   "outputs": [
    {
     "data": {
      "text/plain": [
       "RandomForestClassifier(bootstrap=True, ccp_alpha=0.0, class_weight=None,\n",
       "                       criterion='entropy', max_depth=8, max_features='auto',\n",
       "                       max_leaf_nodes=None, max_samples=None,\n",
       "                       min_impurity_decrease=0.0, min_impurity_split=None,\n",
       "                       min_samples_leaf=1, min_samples_split=2,\n",
       "                       min_weight_fraction_leaf=0.0, n_estimators=100,\n",
       "                       n_jobs=None, oob_score=False, random_state=0, verbose=0,\n",
       "                       warm_start=False)"
      ]
     },
     "execution_count": 133,
     "metadata": {},
     "output_type": "execute_result"
    }
   ],
   "source": [
    "rfc.fit(X_train,y_train)"
   ]
  },
  {
   "cell_type": "code",
   "execution_count": 134,
   "metadata": {
    "colab": {},
    "colab_type": "code",
    "id": "ZbVkc4A0nG_4"
   },
   "outputs": [],
   "source": [
    "y_pred_rfc=rfc.predict(X_test)"
   ]
  },
  {
   "cell_type": "code",
   "execution_count": 135,
   "metadata": {
    "colab": {
     "base_uri": "https://localhost:8080/",
     "height": 201
    },
    "colab_type": "code",
    "id": "-05hvDOHnG51",
    "outputId": "a1a7f4ee-f404-4bce-f5ab-a93ffb5eb04c"
   },
   "outputs": [
    {
     "name": "stdout",
     "output_type": "stream",
     "text": [
      "              precision    recall  f1-score   support\n",
      "\n",
      "           0       0.93      0.70      0.80      4855\n",
      "           1       0.86      1.00      0.93      9781\n",
      "           2       0.73      0.68      0.71      4891\n",
      "\n",
      "    accuracy                           0.84     19527\n",
      "   macro avg       0.84      0.79      0.81     19527\n",
      "weighted avg       0.85      0.84      0.84     19527\n",
      "\n"
     ]
    }
   ],
   "source": [
    "print(classification_report(y_test,y_pred_rfc))"
   ]
  },
  {
   "cell_type": "code",
   "execution_count": 136,
   "metadata": {
    "colab": {
     "base_uri": "https://localhost:8080/",
     "height": 35
    },
    "colab_type": "code",
    "id": "klFBNiCKtTbg",
    "outputId": "a133eba7-be9c-4ab0-be29-ce30edc0917c"
   },
   "outputs": [
    {
     "data": {
      "text/plain": [
       "0.8445741793414246"
      ]
     },
     "execution_count": 136,
     "metadata": {},
     "output_type": "execute_result"
    }
   ],
   "source": [
    "accuracy_score(y_test,y_pred_rfc)"
   ]
  },
  {
   "cell_type": "code",
   "execution_count": 137,
   "metadata": {
    "colab": {
     "base_uri": "https://localhost:8080/",
     "height": 283
    },
    "colab_type": "code",
    "id": "4fwkUghFiohi",
    "outputId": "86313c5f-fc45-4864-bbf9-d18a7c76c2e6"
   },
   "outputs": [
    {
     "data": {
      "text/plain": [
       "<BarContainer object of 5 artists>"
      ]
     },
     "execution_count": 137,
     "metadata": {},
     "output_type": "execute_result"
    },
    {
     "data": {
      "image/png": "[encoded data removed]",
      "text/plain": [
       "<Figure size 432x288 with 1 Axes>"
      ]
     },
     "metadata": {
      "needs_background": "light"
     },
     "output_type": "display_data"
    }
   ],
   "source": [
    "plt.barh(list(X),list(rfc.feature_importances_))"
   ]
  },
  {
   "cell_type": "code",
   "execution_count": 138,
   "metadata": {
    "colab": {},
    "colab_type": "code",
    "id": "seOC2uftioht"
   },
   "outputs": [],
   "source": [
    "score=cross_val_score(estimator=rfc,X=X,y=y,cv=5)"
   ]
  },
  {
   "cell_type": "code",
   "execution_count": 139,
   "metadata": {
    "colab": {
     "base_uri": "https://localhost:8080/",
     "height": 35
    },
    "colab_type": "code",
    "id": "s6AWsz8aioiL",
    "outputId": "64e6cbe7-1992-4965-f88a-beb4c14f1482"
   },
   "outputs": [
    {
     "data": {
      "text/plain": [
       "0.8063384076034774"
      ]
     },
     "execution_count": 139,
     "metadata": {},
     "output_type": "execute_result"
    }
   ],
   "source": [
    "score.mean()"
   ]
  },
  {
   "cell_type": "markdown",
   "metadata": {},
   "source": [
    "### XgBoost Classifier"
   ]
  },
  {
   "cell_type": "code",
   "execution_count": 140,
   "metadata": {
    "colab": {},
    "colab_type": "code",
    "id": "RytSQeZFioiP"
   },
   "outputs": [],
   "source": [
    "xgb=XGBClassifier()"
   ]
  },
  {
   "cell_type": "code",
   "execution_count": 141,
   "metadata": {
    "colab": {
     "base_uri": "https://localhost:8080/",
     "height": 146
    },
    "colab_type": "code",
    "id": "obo-rUrE5V6-",
    "outputId": "0eb0a767-d1df-4f09-a19a-c62d5e4d254f"
   },
   "outputs": [
    {
     "data": {
      "text/plain": [
       "XGBClassifier(base_score=0.5, booster='gbtree', colsample_bylevel=1,\n",
       "              colsample_bynode=1, colsample_bytree=1, gamma=0,\n",
       "              learning_rate=0.1, max_delta_step=0, max_depth=3,\n",
       "              min_child_weight=1, missing=None, n_estimators=100, n_jobs=1,\n",
       "              nthread=None, objective='multi:softprob', random_state=0,\n",
       "              reg_alpha=0, reg_lambda=1, scale_pos_weight=1, seed=None,\n",
       "              silent=None, subsample=1, verbosity=1)"
      ]
     },
     "execution_count": 141,
     "metadata": {},
     "output_type": "execute_result"
    }
   ],
   "source": [
    "xgb.fit(X_train,y_train)"
   ]
  },
  {
   "cell_type": "code",
   "execution_count": 142,
   "metadata": {
    "colab": {},
    "colab_type": "code",
    "id": "_brbVeJ05V_O"
   },
   "outputs": [],
   "source": [
    "y_pred_xgb=xgb.predict(X_test)"
   ]
  },
  {
   "cell_type": "code",
   "execution_count": 143,
   "metadata": {
    "colab": {
     "base_uri": "https://localhost:8080/",
     "height": 35
    },
    "colab_type": "code",
    "id": "QOJEcWDz5V3n",
    "outputId": "3dbd30af-eeb2-4fd9-898c-82dc49df8e18"
   },
   "outputs": [
    {
     "data": {
      "text/plain": [
       "0.8468786808009423"
      ]
     },
     "execution_count": 143,
     "metadata": {},
     "output_type": "execute_result"
    }
   ],
   "source": [
    "accuracy_score(y_test,y_pred_xgb)"
   ]
  },
  {
   "cell_type": "code",
   "execution_count": 144,
   "metadata": {
    "colab": {
     "base_uri": "https://localhost:8080/",
     "height": 201
    },
    "colab_type": "code",
    "id": "xOR8IOTI5lGU",
    "outputId": "bc1da195-c545-40ee-9e47-8012040ebe70"
   },
   "outputs": [
    {
     "name": "stdout",
     "output_type": "stream",
     "text": [
      "              precision    recall  f1-score   support\n",
      "\n",
      "           0       0.94      0.69      0.80      4855\n",
      "           1       0.87      0.99      0.93      9781\n",
      "           2       0.73      0.70      0.71      4891\n",
      "\n",
      "    accuracy                           0.85     19527\n",
      "   macro avg       0.85      0.80      0.81     19527\n",
      "weighted avg       0.85      0.85      0.84     19527\n",
      "\n"
     ]
    }
   ],
   "source": [
    "print(classification_report(y_test,y_pred_xgb))"
   ]
  },
  {
   "cell_type": "code",
   "execution_count": 145,
   "metadata": {
    "colab": {},
    "colab_type": "code",
    "id": "VAiFbWLGjJDZ"
   },
   "outputs": [],
   "source": [
    "scores_xgb=cross_val_score(estimator=xgb,X=X,y=y,cv=5)"
   ]
  },
  {
   "cell_type": "code",
   "execution_count": 146,
   "metadata": {
    "colab": {
     "base_uri": "https://localhost:8080/",
     "height": 35
    },
    "colab_type": "code",
    "id": "MaYPl3D4ioiz",
    "outputId": "4111538b-9c9f-4fcd-faae-eb55478ef840"
   },
   "outputs": [
    {
     "data": {
      "text/plain": [
       "0.8092263856287865"
      ]
     },
     "execution_count": 146,
     "metadata": {},
     "output_type": "execute_result"
    }
   ],
   "source": [
    "scores_xgb.mean()"
   ]
  }
 ],
 "metadata": {
  "accelerator": "GPU",
  "colab": {
   "machine_shape": "hm",
   "name": "Capstone Project New.ipynb",
   "provenance": [],
   "toc_visible": true
  },
  "kernelspec": {
   "display_name": "Python 3",
   "language": "python",
   "name": "python3"
  },
  "language_info": {
   "codemirror_mode": {
    "name": "ipython",
    "version": 3
   },
   "file_extension": ".py",
   "mimetype": "text/x-python",
   "name": "python",
   "nbconvert_exporter": "python",
   "pygments_lexer": "ipython3",
   "version": "3.7.4"
  }
 },
 "nbformat": 4,
 "nbformat_minor": 1
}
